{
 "cells": [
  {
   "cell_type": "markdown",
   "metadata": {},
   "source": [
    "### Splitting Flicker8k or Flicker30k dataset\n",
    "- This is to split the text file from the normal Flicker8k and Flicker30k dataset"
   ]
  },
  {
   "cell_type": "code",
   "execution_count": 9,
   "metadata": {},
   "outputs": [
    {
     "name": "stdout",
     "output_type": "stream",
     "text": [
      "Invalid line: 2428275562_4bde2bc5ea.jpg#0\tA\n",
      "\n",
      "Invalid line: 3640443200_b8066f37f6.jpg#0\ta\n",
      "\n"
     ]
    },
    {
     "data": {
      "text/html": [
       "<div>\n",
       "<style scoped>\n",
       "    .dataframe tbody tr th:only-of-type {\n",
       "        vertical-align: middle;\n",
       "    }\n",
       "\n",
       "    .dataframe tbody tr th {\n",
       "        vertical-align: top;\n",
       "    }\n",
       "\n",
       "    .dataframe thead th {\n",
       "        text-align: right;\n",
       "    }\n",
       "</style>\n",
       "<table border=\"1\" class=\"dataframe\">\n",
       "  <thead>\n",
       "    <tr style=\"text-align: right;\">\n",
       "      <th></th>\n",
       "      <th>image_filename</th>\n",
       "      <th>image_caption</th>\n",
       "    </tr>\n",
       "  </thead>\n",
       "  <tbody>\n",
       "    <tr>\n",
       "      <th>0</th>\n",
       "      <td>1000268201_693b08cb0e.jpg</td>\n",
       "      <td>child in a pink dress is climbing up a set of ...</td>\n",
       "    </tr>\n",
       "    <tr>\n",
       "      <th>1</th>\n",
       "      <td>1000268201_693b08cb0e.jpg</td>\n",
       "      <td>girl going into a wooden building .</td>\n",
       "    </tr>\n",
       "    <tr>\n",
       "      <th>2</th>\n",
       "      <td>1000268201_693b08cb0e.jpg</td>\n",
       "      <td>little girl climbing into a wooden playhouse .</td>\n",
       "    </tr>\n",
       "    <tr>\n",
       "      <th>3</th>\n",
       "      <td>1000268201_693b08cb0e.jpg</td>\n",
       "      <td>little girl climbing the stairs to her playhou...</td>\n",
       "    </tr>\n",
       "    <tr>\n",
       "      <th>4</th>\n",
       "      <td>1000268201_693b08cb0e.jpg</td>\n",
       "      <td>little girl in a pink dress going into a woode...</td>\n",
       "    </tr>\n",
       "    <tr>\n",
       "      <th>...</th>\n",
       "      <td>...</td>\n",
       "      <td>...</td>\n",
       "    </tr>\n",
       "    <tr>\n",
       "      <th>40453</th>\n",
       "      <td>997722733_0cb5439472.jpg</td>\n",
       "      <td>man in a pink shirt climbs a rock face</td>\n",
       "    </tr>\n",
       "    <tr>\n",
       "      <th>40454</th>\n",
       "      <td>997722733_0cb5439472.jpg</td>\n",
       "      <td>man is rock climbing high in the air .</td>\n",
       "    </tr>\n",
       "    <tr>\n",
       "      <th>40455</th>\n",
       "      <td>997722733_0cb5439472.jpg</td>\n",
       "      <td>person in a red shirt climbing up a rock face ...</td>\n",
       "    </tr>\n",
       "    <tr>\n",
       "      <th>40456</th>\n",
       "      <td>997722733_0cb5439472.jpg</td>\n",
       "      <td>rock climber in a red shirt .</td>\n",
       "    </tr>\n",
       "    <tr>\n",
       "      <th>40457</th>\n",
       "      <td>997722733_0cb5439472.jpg</td>\n",
       "      <td>rock climber practices on a rock climbing wall .</td>\n",
       "    </tr>\n",
       "  </tbody>\n",
       "</table>\n",
       "<p>40458 rows × 2 columns</p>\n",
       "</div>"
      ],
      "text/plain": [
       "                  image_filename  \\\n",
       "0      1000268201_693b08cb0e.jpg   \n",
       "1      1000268201_693b08cb0e.jpg   \n",
       "2      1000268201_693b08cb0e.jpg   \n",
       "3      1000268201_693b08cb0e.jpg   \n",
       "4      1000268201_693b08cb0e.jpg   \n",
       "...                          ...   \n",
       "40453   997722733_0cb5439472.jpg   \n",
       "40454   997722733_0cb5439472.jpg   \n",
       "40455   997722733_0cb5439472.jpg   \n",
       "40456   997722733_0cb5439472.jpg   \n",
       "40457   997722733_0cb5439472.jpg   \n",
       "\n",
       "                                           image_caption  \n",
       "0      child in a pink dress is climbing up a set of ...  \n",
       "1                    girl going into a wooden building .  \n",
       "2         little girl climbing into a wooden playhouse .  \n",
       "3      little girl climbing the stairs to her playhou...  \n",
       "4      little girl in a pink dress going into a woode...  \n",
       "...                                                  ...  \n",
       "40453             man in a pink shirt climbs a rock face  \n",
       "40454             man is rock climbing high in the air .  \n",
       "40455  person in a red shirt climbing up a rock face ...  \n",
       "40456                      rock climber in a red shirt .  \n",
       "40457   rock climber practices on a rock climbing wall .  \n",
       "\n",
       "[40458 rows x 2 columns]"
      ]
     },
     "execution_count": 9,
     "metadata": {},
     "output_type": "execute_result"
    }
   ],
   "source": [
    "import pandas as pd\n",
    "\n",
    "def convert_labels_to_dataframe(labels_path):\n",
    "\n",
    "    image_names = []\n",
    "    captions = []\n",
    "\n",
    "    with open(labels_path, 'r') as file:\n",
    "        for line in file:\n",
    "            line_details = line.strip().split(' ', 1)  #split at the first space to handle captions with spaces\n",
    "            if len(line_details) == 2:\n",
    "                image_name = line_details[0].split('#') #remove #caption_num\n",
    "                image_names.append(image_name[0].strip())\n",
    "                captions.append(line_details[1].strip())\n",
    "            else:\n",
    "                print(\"Invalid line:\", line)\n",
    "\n",
    "    # Create a DataFrame\n",
    "    data = pd.DataFrame({'image_filename': image_names, 'image_caption': captions})\n",
    "\n",
    "    return data\n",
    "\n",
    "caption_data = convert_labels_to_dataframe('../input/Flicker8k/Flickr8k.token.txt')\n",
    "caption_data"
   ]
  },
  {
   "cell_type": "code",
   "execution_count": 30,
   "metadata": {},
   "outputs": [],
   "source": [
    "import shutil\n",
    "import os\n",
    "from tqdm import tqdm\n",
    "\n",
    "\n",
    "def create_flicker_dataset(image_txt_files, folder_type, captions_data):\n",
    "    image_path = f'../input/Flicker8k/{folder_type}/Images/'\n",
    "    label_path = f'../input/Flicker8k/{folder_type}/Labels/'\n",
    "\n",
    "    source_folder = f'../input/Flicker8k/Flicker8k_Dataset/'\n",
    "\n",
    "    if not os.path.exists(image_path):\n",
    "        os.makedirs(image_path)\n",
    "\n",
    "    if not os.path.exists(label_path):\n",
    "        os.makedirs(label_path)\n",
    "\n",
    "    captions_dataset = pd.DataFrame(columns=['image_filename','image_caption'])\n",
    "\n",
    "    with open(image_txt_files, 'r') as file:\n",
    "        image_names = file.readlines()\n",
    "\n",
    "    for image_name in tqdm(image_names):\n",
    "        image_name = image_name.strip()\n",
    "        source_path = os.path.join(source_folder, image_name)\n",
    "        destination_path = os.path.join(image_path, image_name)\n",
    "\n",
    "        filtered_captions = captions_data[captions_data['image_filename'] == image_name]\n",
    "        captions_dataset = pd.concat([captions_dataset, filtered_captions], ignore_index=True)\n",
    "\n",
    "        try:\n",
    "            shutil.move(source_path, destination_path)\n",
    "        except FileNotFoundError:\n",
    "            print(f\"File '{image_name}' not found in '{source_folder}'\")\n",
    "        except shutil.Error as e:\n",
    "            print(f\"Error occurred while moving '{image_name}': {e}\")\n",
    "\n",
    "    captions_dataset.to_csv(f\"{label_path}Label.csv\")\n",
    "    print(f\"Completed, {len(image_names)} images moved and {len(captions_dataset)} captions moved\")\n",
    "    return captions_dataset"
   ]
  },
  {
   "cell_type": "code",
   "execution_count": 31,
   "metadata": {},
   "outputs": [
    {
     "name": "stderr",
     "output_type": "stream",
     "text": [
      "  0%|          | 0/6000 [00:00<?, ?it/s]"
     ]
    },
    {
     "name": "stderr",
     "output_type": "stream",
     "text": [
      "100%|██████████| 6000/6000 [03:00<00:00, 33.30it/s]\n"
     ]
    },
    {
     "name": "stdout",
     "output_type": "stream",
     "text": [
      "Completed, 6000 images moved and 30000 captions moved\n"
     ]
    }
   ],
   "source": [
    "create_flicker_dataset('../input/Flicker8k/Flickr_8k.trainImages.txt', 'Train', caption_data)"
   ]
  },
  {
   "cell_type": "code",
   "execution_count": 32,
   "metadata": {},
   "outputs": [
    {
     "name": "stderr",
     "output_type": "stream",
     "text": [
      "100%|██████████| 1000/1000 [00:14<00:00, 70.42it/s]"
     ]
    },
    {
     "name": "stdout",
     "output_type": "stream",
     "text": [
      "Completed, 1000 images moved and 5000 captions moved\n"
     ]
    },
    {
     "name": "stderr",
     "output_type": "stream",
     "text": [
      "\n"
     ]
    },
    {
     "data": {
      "text/html": [
       "<div>\n",
       "<style scoped>\n",
       "    .dataframe tbody tr th:only-of-type {\n",
       "        vertical-align: middle;\n",
       "    }\n",
       "\n",
       "    .dataframe tbody tr th {\n",
       "        vertical-align: top;\n",
       "    }\n",
       "\n",
       "    .dataframe thead th {\n",
       "        text-align: right;\n",
       "    }\n",
       "</style>\n",
       "<table border=\"1\" class=\"dataframe\">\n",
       "  <thead>\n",
       "    <tr style=\"text-align: right;\">\n",
       "      <th></th>\n",
       "      <th>image_filename</th>\n",
       "      <th>image_caption</th>\n",
       "    </tr>\n",
       "  </thead>\n",
       "  <tbody>\n",
       "    <tr>\n",
       "      <th>0</th>\n",
       "      <td>3385593926_d3e9c21170.jpg</td>\n",
       "      <td>dogs are in the snow in front of a fence .</td>\n",
       "    </tr>\n",
       "    <tr>\n",
       "      <th>1</th>\n",
       "      <td>3385593926_d3e9c21170.jpg</td>\n",
       "      <td>dogs play on the snow .</td>\n",
       "    </tr>\n",
       "    <tr>\n",
       "      <th>2</th>\n",
       "      <td>3385593926_d3e9c21170.jpg</td>\n",
       "      <td>brown dogs playfully fight in the snow .</td>\n",
       "    </tr>\n",
       "    <tr>\n",
       "      <th>3</th>\n",
       "      <td>3385593926_d3e9c21170.jpg</td>\n",
       "      <td>brown dogs wrestle in the snow .</td>\n",
       "    </tr>\n",
       "    <tr>\n",
       "      <th>4</th>\n",
       "      <td>3385593926_d3e9c21170.jpg</td>\n",
       "      <td>dogs playing in the snow .</td>\n",
       "    </tr>\n",
       "    <tr>\n",
       "      <th>...</th>\n",
       "      <td>...</td>\n",
       "      <td>...</td>\n",
       "    </tr>\n",
       "    <tr>\n",
       "      <th>4995</th>\n",
       "      <td>3490736665_38710f4b91.jpg</td>\n",
       "      <td>big dog stands on his hand leg as tennis balls...</td>\n",
       "    </tr>\n",
       "    <tr>\n",
       "      <th>4996</th>\n",
       "      <td>3490736665_38710f4b91.jpg</td>\n",
       "      <td>brown and white dog in front of a shed overwhe...</td>\n",
       "    </tr>\n",
       "    <tr>\n",
       "      <th>4997</th>\n",
       "      <td>3490736665_38710f4b91.jpg</td>\n",
       "      <td>brown and white dogs stands in front of a wood...</td>\n",
       "    </tr>\n",
       "    <tr>\n",
       "      <th>4998</th>\n",
       "      <td>3490736665_38710f4b91.jpg</td>\n",
       "      <td>dog jumps for several tennis balls thrown at h...</td>\n",
       "    </tr>\n",
       "    <tr>\n",
       "      <th>4999</th>\n",
       "      <td>3490736665_38710f4b91.jpg</td>\n",
       "      <td>dog stands on his hind legs amid a shower of t...</td>\n",
       "    </tr>\n",
       "  </tbody>\n",
       "</table>\n",
       "<p>5000 rows × 2 columns</p>\n",
       "</div>"
      ],
      "text/plain": [
       "                 image_filename  \\\n",
       "0     3385593926_d3e9c21170.jpg   \n",
       "1     3385593926_d3e9c21170.jpg   \n",
       "2     3385593926_d3e9c21170.jpg   \n",
       "3     3385593926_d3e9c21170.jpg   \n",
       "4     3385593926_d3e9c21170.jpg   \n",
       "...                         ...   \n",
       "4995  3490736665_38710f4b91.jpg   \n",
       "4996  3490736665_38710f4b91.jpg   \n",
       "4997  3490736665_38710f4b91.jpg   \n",
       "4998  3490736665_38710f4b91.jpg   \n",
       "4999  3490736665_38710f4b91.jpg   \n",
       "\n",
       "                                          image_caption  \n",
       "0            dogs are in the snow in front of a fence .  \n",
       "1                               dogs play on the snow .  \n",
       "2              brown dogs playfully fight in the snow .  \n",
       "3                      brown dogs wrestle in the snow .  \n",
       "4                            dogs playing in the snow .  \n",
       "...                                                 ...  \n",
       "4995  big dog stands on his hand leg as tennis balls...  \n",
       "4996  brown and white dog in front of a shed overwhe...  \n",
       "4997  brown and white dogs stands in front of a wood...  \n",
       "4998  dog jumps for several tennis balls thrown at h...  \n",
       "4999  dog stands on his hind legs amid a shower of t...  \n",
       "\n",
       "[5000 rows x 2 columns]"
      ]
     },
     "execution_count": 32,
     "metadata": {},
     "output_type": "execute_result"
    }
   ],
   "source": [
    "create_flicker_dataset('../input/Flicker8k/Flickr_8k.testImages.txt', 'Test', caption_data)"
   ]
  },
  {
   "cell_type": "code",
   "execution_count": 33,
   "metadata": {},
   "outputs": [
    {
     "name": "stderr",
     "output_type": "stream",
     "text": [
      "100%|██████████| 1000/1000 [00:10<00:00, 93.45it/s]"
     ]
    },
    {
     "name": "stdout",
     "output_type": "stream",
     "text": [
      "Completed, 1000 images moved and 5000 captions moved\n"
     ]
    },
    {
     "name": "stderr",
     "output_type": "stream",
     "text": [
      "\n"
     ]
    },
    {
     "data": {
      "text/html": [
       "<div>\n",
       "<style scoped>\n",
       "    .dataframe tbody tr th:only-of-type {\n",
       "        vertical-align: middle;\n",
       "    }\n",
       "\n",
       "    .dataframe tbody tr th {\n",
       "        vertical-align: top;\n",
       "    }\n",
       "\n",
       "    .dataframe thead th {\n",
       "        text-align: right;\n",
       "    }\n",
       "</style>\n",
       "<table border=\"1\" class=\"dataframe\">\n",
       "  <thead>\n",
       "    <tr style=\"text-align: right;\">\n",
       "      <th></th>\n",
       "      <th>image_filename</th>\n",
       "      <th>image_caption</th>\n",
       "    </tr>\n",
       "  </thead>\n",
       "  <tbody>\n",
       "    <tr>\n",
       "      <th>0</th>\n",
       "      <td>2090545563_a4e66ec76b.jpg</td>\n",
       "      <td>boy laying face down on a skateboard is being ...</td>\n",
       "    </tr>\n",
       "    <tr>\n",
       "      <th>1</th>\n",
       "      <td>2090545563_a4e66ec76b.jpg</td>\n",
       "      <td>girls play on a skateboard in a courtyard .</td>\n",
       "    </tr>\n",
       "    <tr>\n",
       "      <th>2</th>\n",
       "      <td>2090545563_a4e66ec76b.jpg</td>\n",
       "      <td>people play on a long skateboard .</td>\n",
       "    </tr>\n",
       "    <tr>\n",
       "      <th>3</th>\n",
       "      <td>2090545563_a4e66ec76b.jpg</td>\n",
       "      <td>small children in red shirts playing on a skat...</td>\n",
       "    </tr>\n",
       "    <tr>\n",
       "      <th>4</th>\n",
       "      <td>2090545563_a4e66ec76b.jpg</td>\n",
       "      <td>young children on a skateboard going across a ...</td>\n",
       "    </tr>\n",
       "    <tr>\n",
       "      <th>...</th>\n",
       "      <td>...</td>\n",
       "      <td>...</td>\n",
       "    </tr>\n",
       "    <tr>\n",
       "      <th>4995</th>\n",
       "      <td>522652105_a89f1cf260.jpg</td>\n",
       "      <td>girl playing is a pile of colorful balls .</td>\n",
       "    </tr>\n",
       "    <tr>\n",
       "      <th>4996</th>\n",
       "      <td>522652105_a89f1cf260.jpg</td>\n",
       "      <td>little girl plays in a ball pit .</td>\n",
       "    </tr>\n",
       "    <tr>\n",
       "      <th>4997</th>\n",
       "      <td>522652105_a89f1cf260.jpg</td>\n",
       "      <td>little girl plays in a pit of colorful balls .</td>\n",
       "    </tr>\n",
       "    <tr>\n",
       "      <th>4998</th>\n",
       "      <td>522652105_a89f1cf260.jpg</td>\n",
       "      <td>small girl is playing in a ball pit</td>\n",
       "    </tr>\n",
       "    <tr>\n",
       "      <th>4999</th>\n",
       "      <td>522652105_a89f1cf260.jpg</td>\n",
       "      <td>young girl with a white shirt and pink shorts ...</td>\n",
       "    </tr>\n",
       "  </tbody>\n",
       "</table>\n",
       "<p>5000 rows × 2 columns</p>\n",
       "</div>"
      ],
      "text/plain": [
       "                 image_filename  \\\n",
       "0     2090545563_a4e66ec76b.jpg   \n",
       "1     2090545563_a4e66ec76b.jpg   \n",
       "2     2090545563_a4e66ec76b.jpg   \n",
       "3     2090545563_a4e66ec76b.jpg   \n",
       "4     2090545563_a4e66ec76b.jpg   \n",
       "...                         ...   \n",
       "4995   522652105_a89f1cf260.jpg   \n",
       "4996   522652105_a89f1cf260.jpg   \n",
       "4997   522652105_a89f1cf260.jpg   \n",
       "4998   522652105_a89f1cf260.jpg   \n",
       "4999   522652105_a89f1cf260.jpg   \n",
       "\n",
       "                                          image_caption  \n",
       "0     boy laying face down on a skateboard is being ...  \n",
       "1           girls play on a skateboard in a courtyard .  \n",
       "2                    people play on a long skateboard .  \n",
       "3     small children in red shirts playing on a skat...  \n",
       "4     young children on a skateboard going across a ...  \n",
       "...                                                 ...  \n",
       "4995         girl playing is a pile of colorful balls .  \n",
       "4996                  little girl plays in a ball pit .  \n",
       "4997     little girl plays in a pit of colorful balls .  \n",
       "4998                small girl is playing in a ball pit  \n",
       "4999  young girl with a white shirt and pink shorts ...  \n",
       "\n",
       "[5000 rows x 2 columns]"
      ]
     },
     "execution_count": 33,
     "metadata": {},
     "output_type": "execute_result"
    }
   ],
   "source": [
    "create_flicker_dataset('../input/Flicker8k/Flickr_8k.devImages.txt', 'Validation', caption_data)"
   ]
  },
  {
   "cell_type": "markdown",
   "metadata": {},
   "source": [
    "### Splitting Filtered Flicker30k dataset\n",
    "- This is to split the csv file from our filtered Flicker30k dataset"
   ]
  },
  {
   "cell_type": "code",
   "execution_count": 59,
   "metadata": {},
   "outputs": [],
   "source": [
    "import pandas as pd\n",
    "import os\n",
    "import math\n",
    "import random\n",
    "import shutil"
   ]
  },
  {
   "cell_type": "code",
   "execution_count": 60,
   "metadata": {},
   "outputs": [],
   "source": [
    "def split_flicker_dataset(csv_filepath:str, image_paths:str, output_paths:list, train_val_test_split:list):\n",
    "    if sum(train_val_test_split) != 1:\n",
    "        raise Exception(\"Train Test Validation Split should sum up to 1\")\n",
    "\n",
    "    dataset = pd.read_csv(csv_filepath)\n",
    "    dataset.drop(columns=\"Unnamed: 0\", inplace=True) #drop unamed column\n",
    "\n",
    "    total_data = list(range(len(dataset)))\n",
    "    random.shuffle(total_data)\n",
    "\n",
    "    train_size = math.floor(train_val_test_split[0] * len(total_data))\n",
    "    val_size = math.floor(train_val_test_split[1]* len(total_data))\n",
    "\n",
    "    train_data = total_data[:train_size]\n",
    "    val_data = total_data[train_size:val_size+train_size]\n",
    "    test_data = total_data[val_size+train_size:]\n",
    "    print(f\"\"\"training dataset size: {len(train_data)}\n",
    "validation dataset size: {len(val_data)}\n",
    "test dataset size: {len(test_data)}\"\"\")\n",
    "    \n",
    "    full_dataset = [train_data, val_data, test_data]\n",
    "    \n",
    "    for idx, data in enumerate(full_dataset):\n",
    "        dataframe = dataset.iloc[data]\n",
    "        dataframe.rename(columns={'image_filename': 'image_filename', 'caption': 'image_caption'}, inplace=True)\n",
    "        dataframe.drop(columns=['label', 'confidence'], inplace=True)\n",
    "        \n",
    "        if not os.path.exists(f\"{output_paths[idx]}/Images\"):\n",
    "            os.makedirs(f\"{output_paths[idx]}/Images\")\n",
    "        \n",
    "        if not os.path.exists(f\"{output_paths[idx]}/Labels\"):\n",
    "            os.makedirs(f\"{output_paths[idx]}/Labels\")\n",
    "\n",
    "        for index, row in dataframe.iterrows():\n",
    "            image_name = row['image_filename']\n",
    "            image_path =  f\"{image_paths}/{image_name}\"\n",
    "            dest_path = f\"{output_paths[idx]}/Images/{image_name}\"\n",
    "\n",
    "            shutil.copy(image_path, dest_path)\n",
    "\n",
    "        dataframe.to_csv(f\"{output_paths[idx]}/Labels/Label.csv\")\n",
    "        print(\"Saved Dataset\")\n",
    "            "
   ]
  },
  {
   "cell_type": "code",
   "execution_count": 61,
   "metadata": {},
   "outputs": [
    {
     "name": "stdout",
     "output_type": "stream",
     "text": [
      "training dataset size: 9431\n",
      "validation dataset size: 1178\n",
      "test dataset size: 1180\n"
     ]
    },
    {
     "name": "stderr",
     "output_type": "stream",
     "text": [
      "C:\\Users\\valkr\\AppData\\Local\\Temp\\ipykernel_33424\\3861133542.py:25: SettingWithCopyWarning: \n",
      "A value is trying to be set on a copy of a slice from a DataFrame\n",
      "\n",
      "See the caveats in the documentation: https://pandas.pydata.org/pandas-docs/stable/user_guide/indexing.html#returning-a-view-versus-a-copy\n",
      "  dataframe.rename(columns={'image_filename': 'image_filename', 'caption': 'image_caption'}, inplace=True)\n",
      "C:\\Users\\valkr\\AppData\\Local\\Temp\\ipykernel_33424\\3861133542.py:26: SettingWithCopyWarning: \n",
      "A value is trying to be set on a copy of a slice from a DataFrame\n",
      "\n",
      "See the caveats in the documentation: https://pandas.pydata.org/pandas-docs/stable/user_guide/indexing.html#returning-a-view-versus-a-copy\n",
      "  dataframe.drop(columns=['label', 'confidence'], inplace=True)\n"
     ]
    },
    {
     "name": "stdout",
     "output_type": "stream",
     "text": [
      "Saved Dataset\n"
     ]
    },
    {
     "name": "stderr",
     "output_type": "stream",
     "text": [
      "C:\\Users\\valkr\\AppData\\Local\\Temp\\ipykernel_33424\\3861133542.py:25: SettingWithCopyWarning: \n",
      "A value is trying to be set on a copy of a slice from a DataFrame\n",
      "\n",
      "See the caveats in the documentation: https://pandas.pydata.org/pandas-docs/stable/user_guide/indexing.html#returning-a-view-versus-a-copy\n",
      "  dataframe.rename(columns={'image_filename': 'image_filename', 'caption': 'image_caption'}, inplace=True)\n",
      "C:\\Users\\valkr\\AppData\\Local\\Temp\\ipykernel_33424\\3861133542.py:26: SettingWithCopyWarning: \n",
      "A value is trying to be set on a copy of a slice from a DataFrame\n",
      "\n",
      "See the caveats in the documentation: https://pandas.pydata.org/pandas-docs/stable/user_guide/indexing.html#returning-a-view-versus-a-copy\n",
      "  dataframe.drop(columns=['label', 'confidence'], inplace=True)\n"
     ]
    },
    {
     "name": "stdout",
     "output_type": "stream",
     "text": [
      "Saved Dataset\n"
     ]
    },
    {
     "name": "stderr",
     "output_type": "stream",
     "text": [
      "C:\\Users\\valkr\\AppData\\Local\\Temp\\ipykernel_33424\\3861133542.py:25: SettingWithCopyWarning: \n",
      "A value is trying to be set on a copy of a slice from a DataFrame\n",
      "\n",
      "See the caveats in the documentation: https://pandas.pydata.org/pandas-docs/stable/user_guide/indexing.html#returning-a-view-versus-a-copy\n",
      "  dataframe.rename(columns={'image_filename': 'image_filename', 'caption': 'image_caption'}, inplace=True)\n",
      "C:\\Users\\valkr\\AppData\\Local\\Temp\\ipykernel_33424\\3861133542.py:26: SettingWithCopyWarning: \n",
      "A value is trying to be set on a copy of a slice from a DataFrame\n",
      "\n",
      "See the caveats in the documentation: https://pandas.pydata.org/pandas-docs/stable/user_guide/indexing.html#returning-a-view-versus-a-copy\n",
      "  dataframe.drop(columns=['label', 'confidence'], inplace=True)\n"
     ]
    },
    {
     "name": "stdout",
     "output_type": "stream",
     "text": [
      "Saved Dataset\n"
     ]
    }
   ],
   "source": [
    "split_flicker_dataset(csv_filepath=\"../../input/FilteredFlicker/flick30k_filtered_result.csv\",\n",
    "                              image_paths=\"../../input/FilteredFlicker/flicker30k_output_images\",\n",
    "                              output_paths=[\"../../input/FilteredFlicker/Train\",\"../../input/FilteredFlicker/Validation\", \"../../input/FilteredFlicker/Test\"],\n",
    "                              train_val_test_split=[0.8, 0.1, 0.1])\n"
   ]
  }
 ],
 "metadata": {
  "kernelspec": {
   "display_name": "base",
   "language": "python",
   "name": "python3"
  },
  "language_info": {
   "codemirror_mode": {
    "name": "ipython",
    "version": 3
   },
   "file_extension": ".py",
   "mimetype": "text/x-python",
   "name": "python",
   "nbconvert_exporter": "python",
   "pygments_lexer": "ipython3",
   "version": "3.9.13"
  }
 },
 "nbformat": 4,
 "nbformat_minor": 2
}
